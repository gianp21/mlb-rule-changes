{
 "cells": [
  {
   "cell_type": "code",
   "execution_count": 27,
   "id": "3f1ddc8a",
   "metadata": {
    "tags": []
   },
   "outputs": [],
   "source": [
    "# we'll start off by importing necessary packages/libraries\n",
    "# then, we'll scrape the statcast webpage for the data we need in this analysis\n",
    "# this seems to be the best approach since the size of the CSV files makes manual downloading too slow and difficult\n",
    "import numpy as np\n",
    "import pandas as pd\n",
    "import matplotlib.pyplot as plt\n",
    "import seaborn as sns\n",
    "from bs4 import BeautifulSoup\n",
    "import requests"
   ]
  },
  {
   "cell_type": "code",
   "execution_count": 28,
   "id": "fd65b694",
   "metadata": {
    "tags": []
   },
   "outputs": [],
   "source": [
    "url = 'https://baseballsavant.mlb.com/statcast_search?hfPT=&hfAB=&hfGT=R%7C&hfPR=&hfZ=&hfStadium=&hfBBL=&hfNewZones=&hfPull=&hfC=&hfSea=2023%7C2022%7C2021%7C2020%7C2019%7C2018%7C&hfSit=&player_type=batter&hfOuts=&hfOpponent=&pitcher_throws=&batter_stands=&hfSA=&game_date_gt=&game_date_lt=&hfMo=&hfTeam=&home_road=&hfRO=&position=&hfInfield=&hfOutfield=&hfInn=&hfBBT=&hfFlag=&metric_1=&group_by=team-year&min_pitches=0&min_results=0&min_pas=0&sort_col=pitches&player_event_sort=api_p_release_speed&sort_order=desc&chk_stats_pa=on&chk_stats_abs=on&chk_stats_bip=on&chk_stats_hits=on&chk_stats_singles=on&chk_stats_dbls=on&chk_stats_triples=on&chk_stats_hrs=on&chk_stats_so=on&chk_stats_k_percent=on&chk_stats_bb=on&chk_stats_bb_percent=on&chk_stats_ba=on&chk_stats_obp=on&chk_stats_slg=on&chk_stats_launch_speed=on&chk_stats_launch_angle=on&chk_stats_bbdist=on&chk_stats_hardhit_percent=on&chk_stats_barrels_per_pa_percent=on#results'\n",
    "\n",
    "page = requests.get(url)\n",
    "\n",
    "soup = BeautifulSoup(page.text, 'html')"
   ]
  },
  {
   "cell_type": "code",
   "execution_count": 29,
   "id": "ea202cb8",
   "metadata": {
    "tags": []
   },
   "outputs": [],
   "source": [
    "table = soup.find_all('table')\n",
    "table_titles = soup.find_all('th')"
   ]
  },
  {
   "cell_type": "code",
   "execution_count": 30,
   "id": "8aab452e",
   "metadata": {
    "tags": []
   },
   "outputs": [
    {
     "data": {
      "text/plain": [
       "''"
      ]
     },
     "execution_count": 30,
     "metadata": {},
     "output_type": "execute_result"
    }
   ],
   "source": [
    "table_title_text = [title.text.strip() for title in table_titles]\n",
    "table_title_text.pop(1)\n",
    "table_title_text.pop()\n",
    "#print(table_title_text)"
   ]
  },
  {
   "cell_type": "code",
   "execution_count": 31,
   "id": "fa9f579d",
   "metadata": {
    "tags": []
   },
   "outputs": [
    {
     "name": "stdout",
     "output_type": "stream",
     "text": [
      "Empty DataFrame\n",
      "Columns: [Rk., Player, Year, Pitches, Total, Pitch %, PA, AB, BIP, Hits, 1B, 2B, 3B, HR, SO, K%, BB, BB%, BA, OBP, SLG, EV (MPH), LA (°), Dist (ft), Hard Hit%, Barrel/PA%]\n",
      "Index: []\n",
      "\n",
      "[0 rows x 26 columns]\n"
     ]
    }
   ],
   "source": [
    "league_batter_stats = pd.DataFrame(columns = table_title_text)\n",
    "trash = []\n",
    "print(league_batter_stats)"
   ]
  },
  {
   "cell_type": "code",
   "execution_count": 32,
   "id": "3218d112",
   "metadata": {
    "tags": []
   },
   "outputs": [],
   "source": [
    "column_data = soup.find_all('tr')"
   ]
  },
  {
   "cell_type": "code",
   "execution_count": 33,
   "id": "7ee3aa10",
   "metadata": {
    "tags": []
   },
   "outputs": [],
   "source": [
    "for row in column_data[1:]:\n",
    "    row_data = row.find_all('td')\n",
    "    individual_row_data = [data.text.strip() for data in row_data]\n",
    "    if len(individual_row_data) <= 1:\n",
    "        trash.append(individual_row_data)\n",
    "    else:\n",
    "        individual_row_data.pop()\n",
    "        individual_row_data.pop(1)\n",
    "        length = len(league_batter_stats)\n",
    "        league_batter_stats.loc[length] = individual_row_data"
   ]
  },
  {
   "cell_type": "code",
   "execution_count": 34,
   "id": "ba046b5d",
   "metadata": {
    "tags": []
   },
   "outputs": [
    {
     "name": "stdout",
     "output_type": "stream",
     "text": [
      "     Rk. Player  Year Pitches   Total Pitch %    PA    AB   BIP  Hits  ...  \\\n",
      "0      1    LAD  2018  25,643  25,643   100.0  6311  5572  4214  1394  ...   \n",
      "1      2    SEA  2019  25,523  25,523   100.0  6192  5500  3970  1305  ...   \n",
      "2      3    BOS  2019  25,427  25,427   100.0  6439  5770  4452  1554  ...   \n",
      "3      4    MIL  2019  25,312  25,312   100.0  6267  5542  4037  1366  ...   \n",
      "4      5    NYY  2019  25,306  25,306   100.0  6227  5583  4189  1493  ...   \n",
      "..   ...    ...   ...     ...     ...     ...   ...   ...   ...   ...  ...   \n",
      "175  176    MIA  2020    8547    8547   100.0  2161  1935  1413   472  ...   \n",
      "176  177    TEX  2020    8428    8428   100.0  2144  1936  1408   420  ...   \n",
      "177  178    PIT  2020    8352    8352   100.0  2128  1932  1433   425  ...   \n",
      "178  179    DET  2020    8257    8257   100.0  2075  1893  1341   463  ...   \n",
      "179  180    STL  2020    8188    8188   100.0  2008  1752  1295   410  ...   \n",
      "\n",
      "      BB   BB%    BA   OBP   SLG EV (MPH) LA (°) Dist (ft) Hard Hit%  \\\n",
      "0    600   9.5  .250  .328  .442     88.9   14.4       171      36.8   \n",
      "1    581   9.4  .237  .315  .424     87.2   14.3       164      32.2   \n",
      "2    554   8.6  .269  .336  .466     89.7   12.7       173      40.6   \n",
      "3    587   9.4  .246  .325  .438     89.5   11.9       164      39.3   \n",
      "4    551   8.8  .267  .337  .490     89.9   13.5       170      40.1   \n",
      "..   ...   ...   ...   ...   ...      ...    ...       ...       ...   \n",
      "175  185   8.6  .244  .317  .384     86.9   10.0       150      34.5   \n",
      "176  164   7.6  .217  .284  .364     88.0   12.0       153      37.2   \n",
      "177  161   7.6  .220  .282  .357     87.7    9.8       150      36.8   \n",
      "178  146   7.0  .245  .303  .397     88.4   12.4       153      39.4   \n",
      "179  202  10.1  .234  .322  .371     87.0   12.5       155      34.8   \n",
      "\n",
      "    Barrel/PA%  \n",
      "0          5.5  \n",
      "1          4.6  \n",
      "2          5.6  \n",
      "3          5.2  \n",
      "4          6.3  \n",
      "..         ...  \n",
      "175        4.1  \n",
      "176        4.7  \n",
      "177        4.7  \n",
      "178        4.7  \n",
      "179        4.5  \n",
      "\n",
      "[180 rows x 26 columns]\n",
      "[[''], [''], [''], [''], [''], [''], [''], [''], [''], [''], [''], [''], [''], [''], [''], [''], [''], [''], [''], [''], [''], [''], [''], [''], [''], [''], [''], [''], [''], [''], [''], [''], [''], [''], [''], [''], [''], [''], [''], [''], [''], [''], [''], [''], [''], [''], [''], [''], [''], [''], [''], [''], [''], [''], [''], [''], [''], [''], [''], [''], [''], [''], [''], [''], [''], [''], [''], [''], [''], [''], [''], [''], [''], [''], [''], [''], [''], [''], [''], [''], [''], [''], [''], [''], [''], [''], [''], [''], [''], [''], [''], [''], [''], [''], [''], [''], [''], [''], [''], [''], [''], [''], [''], [''], [''], [''], [''], [''], [''], [''], [''], [''], [''], [''], [''], [''], [''], [''], [''], [''], [''], [''], [''], [''], [''], [''], [''], [''], [''], [''], [''], [''], [''], [''], [''], [''], [''], [''], [''], [''], [''], [''], [''], [''], [''], [''], [''], [''], [''], [''], [''], [''], [''], [''], [''], [''], [''], [''], [''], [''], [''], [''], [''], [''], [''], [''], [''], [''], [''], [''], [''], [''], [''], [''], [''], [''], [''], [''], [''], ['']]\n"
     ]
    }
   ],
   "source": [
    "print(league_batter_stats)\n",
    "print(trash)"
   ]
  },
  {
   "cell_type": "code",
   "execution_count": 35,
   "id": "b7afe438-c4ba-4060-8cd8-90b5c1c39962",
   "metadata": {
    "tags": []
   },
   "outputs": [
    {
     "data": {
      "text/plain": [
       "Rk.           object\n",
       "Player        object\n",
       "Year          object\n",
       "Pitches       object\n",
       "Total         object\n",
       "Pitch %       object\n",
       "PA            object\n",
       "AB            object\n",
       "BIP           object\n",
       "Hits          object\n",
       "1B            object\n",
       "2B            object\n",
       "3B            object\n",
       "HR            object\n",
       "SO            object\n",
       "K%            object\n",
       "BB            object\n",
       "BB%           object\n",
       "BA            object\n",
       "OBP           object\n",
       "SLG           object\n",
       "EV (MPH)      object\n",
       "LA (°)        object\n",
       "Dist (ft)     object\n",
       "Hard Hit%     object\n",
       "Barrel/PA%    object\n",
       "dtype: object"
      ]
     },
     "execution_count": 35,
     "metadata": {},
     "output_type": "execute_result"
    }
   ],
   "source": [
    "# now that we have our dataframe full of batting stats across all 30 teams from the 2018-2023 seasons, we can start analyzing\n",
    "# first we need to start changing columns into the datatypes we need for analysis\n",
    "league_batter_stats.dtypes\n",
    "# with this we see that all columns are objects right now"
   ]
  },
  {
   "cell_type": "code",
   "execution_count": 48,
   "id": "76648dcc-330b-479b-9227-51648c2c51f9",
   "metadata": {
    "tags": []
   },
   "outputs": [
    {
     "name": "stdout",
     "output_type": "stream",
     "text": [
      "Rk.             int64\n",
      "Player         string\n",
      "Year           string\n",
      "Pitches         int64\n",
      "Total           int64\n",
      "Pitch %       float64\n",
      "PA              int64\n",
      "AB              int64\n",
      "BIP             int64\n",
      "Hits            int64\n",
      "1B              int64\n",
      "2B              int64\n",
      "3B              int64\n",
      "HR              int64\n",
      "SO              int64\n",
      "K%            float64\n",
      "BB              int64\n",
      "BB%           float64\n",
      "BA            float64\n",
      "OBP           float64\n",
      "SLG           float64\n",
      "EV (MPH)      float64\n",
      "LA (°)        float64\n",
      "Dist (ft)       int64\n",
      "Hard Hit%     float64\n",
      "Barrel/PA%    float64\n",
      "dtype: object\n",
      "0    25643\n",
      "1    25523\n",
      "2    25427\n",
      "3    25312\n",
      "4    25306\n",
      "Name: Pitches, dtype: int64\n"
     ]
    }
   ],
   "source": [
    "# columns that will be converted to integers: all except:\n",
    "# Strings: Player, and Year\n",
    "# Floats: Pitch %, K%, BB%, BA, OBP, SLG, EV, LA, HardHit%, Barrel/PA%\n",
    "league_batter_stats['Player'] = league_batter_stats['Player'].astype('string')\n",
    "league_batter_stats['Year'] = league_batter_stats['Year'].astype('string')\n",
    "league_batter_stats[['Pitch %', 'K%', 'BB%', 'BA', 'OBP', 'SLG', 'EV (MPH)', 'LA (°)', 'Hard Hit%', 'Barrel/PA%']] = league_batter_stats[['Pitch %', 'K%', 'BB%', 'BA', 'OBP', 'SLG', 'EV (MPH)', 'LA (°)', 'Hard Hit%', 'Barrel/PA%']].astype('string')\n",
    "league_batter_stats[['Pitch %', 'K%', 'BB%', 'BA', 'OBP', 'SLG', 'EV (MPH)', 'LA (°)', 'Hard Hit%', 'Barrel/PA%']] = league_batter_stats[['Pitch %', 'K%', 'BB%', 'BA', 'OBP', 'SLG', 'EV (MPH)', 'LA (°)', 'Hard Hit%', 'Barrel/PA%']].astype(float)\n",
    "int_columns = ['Rk.', 'Pitches', 'Total', 'PA', 'AB', 'BIP', 'Hits', '1B', '2B', '3B', 'HR', 'SO', 'BB', 'Dist (ft)']\n",
    "for x in int_columns:\n",
    "    league_batter_stats[x] = league_batter_stats[x].astype('string')\n",
    "    if (x == 'Pitches') or (x == 'Total'):\n",
    "        league_batter_stats[x] = pd.to_numeric(league_batter_stats[x].str.replace(',',''), errors='coerce')\n",
    "    else:\n",
    "        league_batter_stats[x] = pd.to_numeric(league_batter_stats[x], errors='coerce')\n",
    "print(league_batter_stats.dtypes)\n",
    "print(league_batter_stats['Pitches'].head())"
   ]
  },
  {
   "cell_type": "code",
   "execution_count": null,
   "id": "6924f472-4251-4f55-9a39-a80b3eb661fb",
   "metadata": {},
   "outputs": [],
   "source": []
  }
 ],
 "metadata": {
  "kernelspec": {
   "display_name": "Python 3 (ipykernel)",
   "language": "python",
   "name": "python3"
  },
  "language_info": {
   "codemirror_mode": {
    "name": "ipython",
    "version": 3
   },
   "file_extension": ".py",
   "mimetype": "text/x-python",
   "name": "python",
   "nbconvert_exporter": "python",
   "pygments_lexer": "ipython3",
   "version": "3.10.9"
  }
 },
 "nbformat": 4,
 "nbformat_minor": 5
}
